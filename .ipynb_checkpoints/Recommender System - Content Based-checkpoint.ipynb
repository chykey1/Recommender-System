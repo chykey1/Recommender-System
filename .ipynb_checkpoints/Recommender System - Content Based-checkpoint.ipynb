{
 "cells": [
  {
   "cell_type": "markdown",
   "metadata": {},
   "source": [
    "# Imports"
   ]
  },
  {
   "cell_type": "code",
   "execution_count": 2,
   "metadata": {},
   "outputs": [],
   "source": [
    "import os\n",
    "import pandas as pd\n",
    "import numpy as np\n",
    "import math\n",
    "import ast\n",
    "from sklearn.feature_extraction.text import TfidfVectorizer\n",
    "from sklearn.metrics.pairwise import linear_kernel"
   ]
  },
  {
   "cell_type": "markdown",
   "metadata": {},
   "source": [
    "# Content Based Recommender System"
   ]
  },
  {
   "cell_type": "markdown",
   "metadata": {},
   "source": [
    "## Data Process"
   ]
  },
  {
   "cell_type": "code",
   "execution_count": 3,
   "metadata": {
    "scrolled": true
   },
   "outputs": [
    {
     "name": "stderr",
     "output_type": "stream",
     "text": [
      "C:\\Users\\tom.dawson\\AppData\\Local\\Continuum\\anaconda3\\lib\\site-packages\\IPython\\core\\interactiveshell.py:3063: DtypeWarning:\n",
      "\n",
      "Columns (10) have mixed types. Specify dtype option on import or set low_memory=False.\n",
      "\n"
     ]
    }
   ],
   "source": [
    "Data = pd.read_csv(r\"archive\\movies_metadata.csv\")\n",
    "Data[\"genres\"] = Data[\"genres\"].apply(lambda x: \" \".join([List[\"name\"] for List in ast.literal_eval(x)]))\n",
    "Data[\"vote_count\"] = Data[\"vote_count\"].fillna(0) #Fill na's for movies with no votes\n",
    "\n",
    "Links = pd.read_csv(r\"archive\\links_small.csv\")\n",
    "\n",
    "KeyWords = pd.read_csv(r\"archive\\keywords.csv\")\n",
    "KeyWords[\"keywords\"] = KeyWords[\"keywords\"].apply(lambda x: \" \".join([List[\"name\"] for List in ast.literal_eval(x)]))\n",
    "\n",
    "Data = pd.read_csv(r\"archive\\movies_metadata.csv\")\n",
    "Data = Data.drop([19730, 29503, 35587])\n",
    "\n",
    "Credits = pd.read_csv(r\"archive\\credits.csv\")\n",
    "Credits[\"characters\"] = Credits[\"cast\"].head().apply(lambda x: \" \".join([List[\"character\"] for List in ast.literal_eval(x)[0:10]]))\n",
    "Credits[\"director\"] = Credits[\"crew\"].apply(lambda x: \" \".join([List[\"name\"] for List in ast.literal_eval(x)[0:10] if List[\"job\"] == \"Director\"]))\n",
    "\n",
    "Data[\"tmdbId\"] = Data[\"id\"].astype(\"int\")\n",
    "Data[\"id\"] = Data[\"id\"].astype(\"int\")\n",
    "Data = pd.merge(Data, Links, on='tmdbId')\n",
    "Data = pd.merge(Data, KeyWords, on=\"id\")\n",
    "Data = pd.merge(Data, Credits, on =\"id\")"
   ]
  },
  {
   "cell_type": "markdown",
   "metadata": {},
   "source": [
    "### Start with overview and tagline"
   ]
  },
  {
   "cell_type": "code",
   "execution_count": 5,
   "metadata": {},
   "outputs": [],
   "source": [
    "Data[\"overview\"] = Data[\"overview\"].fillna('')\n",
    "Data[\"tagline\"] = Data[\"tagline\"].fillna('')\n",
    "Data[\"keywords\"] = Data[\"keywords\"].fillna('')\n",
    "Data[\"characters\"] = Data[\"characters\"].fillna('')\n",
    "Data[\"director\"] = Data[\"director\"].fillna('')\n",
    "\n",
    "Data[\"Description\"] = Data[\"overview\"] + Data[\"keywords\"] +  Data[\"keywords\"] + Data[\"tagline\"] + Data[\"characters\"] + Data[\"characters\"] + Data[\"director\"] + Data[\"director\"] + Data[\"director\"]"
   ]
  },
  {
   "cell_type": "code",
   "execution_count": 6,
   "metadata": {},
   "outputs": [],
   "source": [
    "def GetSimilarMovies(Data, Movie):\n",
    "    Temp = Data.copy()\n",
    "    Idx = Temp.index[Temp[\"title\"] == Movie].values.tolist()[0]\n",
    "    \n",
    "    Vectoriser = TfidfVectorizer(analyzer=\"word\", stop_words=\"english\")\n",
    "    Vectoriser.fit(Temp[\"Description\"])\n",
    "    \n",
    "    Mat = Vectoriser.transform(Temp[\"Description\"])\n",
    "    Similarities = linear_kernel(Mat, Mat)\n",
    "    \n",
    "    Similars = [i for i in sorted( [(x,i) for (i,x) in enumerate(Similarities[Idx])], reverse=True )[1:40]]\n",
    "    Index = [i[1] for i in Similars]\n",
    "    \n",
    "    Temp = Temp.loc[Index]\n",
    "    \n",
    "    MinVotes = pd.qcut(Temp[\"vote_count\"], 4, duplicates=\"drop\").values.value_counts().index[-1].left\n",
    "    Temp = Temp[Temp[\"vote_count\"] >= MinVotes]\n",
    "    \n",
    "    RatingWeight = Temp[\"vote_count\"] / (Temp[\"vote_count\"] + MinVotes)\n",
    "    AverageWeight = MinVotes / (Temp[\"vote_count\"] + MinVotes)\n",
    "    \n",
    "    Temp[\"weighted_ratings\"] = RatingWeight*Temp[\"vote_average\"] + Temp[\"vote_average\"].mean()*AverageWeight\n",
    "    \n",
    "    return Temp.loc[Index].sort_values(\"weighted_ratings\", ascending = False).head(10)[[\"title\", \"vote_count\", \"vote_average\", \"release_date\"]]"
   ]
  },
  {
   "cell_type": "code",
   "execution_count": 7,
   "metadata": {},
   "outputs": [
    {
     "data": {
      "text/plain": [
       "2131                              Superman\n",
       "2132                           Superman II\n",
       "2133                          Superman III\n",
       "2134      Superman IV: The Quest for Peace\n",
       "6521                      Superman Returns\n",
       "7724                Waiting for 'Superman'\n",
       "7811                     All Star Superman\n",
       "7979             Superman and the Mole-Men\n",
       "9024    Batman v Superman: Dawn of Justice\n",
       "Name: title, dtype: object"
      ]
     },
     "execution_count": 7,
     "metadata": {},
     "output_type": "execute_result"
    }
   ],
   "source": [
    "Data[Data[\"title\"].str.contains(\"Superman\")][\"title\"]"
   ]
  },
  {
   "cell_type": "code",
   "execution_count": 8,
   "metadata": {},
   "outputs": [
    {
     "name": "stderr",
     "output_type": "stream",
     "text": [
      "C:\\Users\\tom.dawson\\AppData\\Local\\Continuum\\anaconda3\\lib\\site-packages\\ipykernel_launcher.py:24: FutureWarning:\n",
      "\n",
      "\n",
      "Passing list-likes to .loc or [] with any missing label will raise\n",
      "KeyError in the future, you can use .reindex() as an alternative.\n",
      "\n",
      "See the documentation here:\n",
      "https://pandas.pydata.org/pandas-docs/stable/indexing.html#deprecate-loc-reindex-listlike\n",
      "\n"
     ]
    },
    {
     "data": {
      "text/html": [
       "<div>\n",
       "<style scoped>\n",
       "    .dataframe tbody tr th:only-of-type {\n",
       "        vertical-align: middle;\n",
       "    }\n",
       "\n",
       "    .dataframe tbody tr th {\n",
       "        vertical-align: top;\n",
       "    }\n",
       "\n",
       "    .dataframe thead th {\n",
       "        text-align: right;\n",
       "    }\n",
       "</style>\n",
       "<table border=\"1\" class=\"dataframe\">\n",
       "  <thead>\n",
       "    <tr style=\"text-align: right;\">\n",
       "      <th></th>\n",
       "      <th>title</th>\n",
       "      <th>vote_count</th>\n",
       "      <th>vote_average</th>\n",
       "      <th>release_date</th>\n",
       "    </tr>\n",
       "  </thead>\n",
       "  <tbody>\n",
       "    <tr>\n",
       "      <th>699</th>\n",
       "      <td>The Godfather</td>\n",
       "      <td>6024.0</td>\n",
       "      <td>8.5</td>\n",
       "      <td>1972-03-14</td>\n",
       "    </tr>\n",
       "    <tr>\n",
       "      <th>48</th>\n",
       "      <td>The Usual Suspects</td>\n",
       "      <td>3334.0</td>\n",
       "      <td>8.1</td>\n",
       "      <td>1995-07-19</td>\n",
       "    </tr>\n",
       "    <tr>\n",
       "      <th>8031</th>\n",
       "      <td>The Dark Knight Rises</td>\n",
       "      <td>9263.0</td>\n",
       "      <td>7.6</td>\n",
       "      <td>2012-07-16</td>\n",
       "    </tr>\n",
       "    <tr>\n",
       "      <th>6218</th>\n",
       "      <td>Batman Begins</td>\n",
       "      <td>7511.0</td>\n",
       "      <td>7.5</td>\n",
       "      <td>2005-06-10</td>\n",
       "    </tr>\n",
       "    <tr>\n",
       "      <th>7583</th>\n",
       "      <td>Kick-Ass</td>\n",
       "      <td>4747.0</td>\n",
       "      <td>7.1</td>\n",
       "      <td>2010-03-22</td>\n",
       "    </tr>\n",
       "    <tr>\n",
       "      <th>3049</th>\n",
       "      <td>X-Men</td>\n",
       "      <td>4172.0</td>\n",
       "      <td>6.8</td>\n",
       "      <td>2000-07-13</td>\n",
       "    </tr>\n",
       "    <tr>\n",
       "      <th>5538</th>\n",
       "      <td>Spider-Man 2</td>\n",
       "      <td>4432.0</td>\n",
       "      <td>6.7</td>\n",
       "      <td>2004-06-25</td>\n",
       "    </tr>\n",
       "    <tr>\n",
       "      <th>8419</th>\n",
       "      <td>Man of Steel</td>\n",
       "      <td>6462.0</td>\n",
       "      <td>6.5</td>\n",
       "      <td>2013-06-12</td>\n",
       "    </tr>\n",
       "    <tr>\n",
       "      <th>9004</th>\n",
       "      <td>Suicide Squad</td>\n",
       "      <td>7717.0</td>\n",
       "      <td>5.9</td>\n",
       "      <td>2016-08-02</td>\n",
       "    </tr>\n",
       "    <tr>\n",
       "      <th>9024</th>\n",
       "      <td>Batman v Superman: Dawn of Justice</td>\n",
       "      <td>7189.0</td>\n",
       "      <td>5.7</td>\n",
       "      <td>2016-03-23</td>\n",
       "    </tr>\n",
       "  </tbody>\n",
       "</table>\n",
       "</div>"
      ],
      "text/plain": [
       "                                   title  vote_count  vote_average  \\\n",
       "699                        The Godfather      6024.0           8.5   \n",
       "48                    The Usual Suspects      3334.0           8.1   \n",
       "8031               The Dark Knight Rises      9263.0           7.6   \n",
       "6218                       Batman Begins      7511.0           7.5   \n",
       "7583                            Kick-Ass      4747.0           7.1   \n",
       "3049                               X-Men      4172.0           6.8   \n",
       "5538                        Spider-Man 2      4432.0           6.7   \n",
       "8419                        Man of Steel      6462.0           6.5   \n",
       "9004                       Suicide Squad      7717.0           5.9   \n",
       "9024  Batman v Superman: Dawn of Justice      7189.0           5.7   \n",
       "\n",
       "     release_date  \n",
       "699    1972-03-14  \n",
       "48     1995-07-19  \n",
       "8031   2012-07-16  \n",
       "6218   2005-06-10  \n",
       "7583   2010-03-22  \n",
       "3049   2000-07-13  \n",
       "5538   2004-06-25  \n",
       "8419   2013-06-12  \n",
       "9004   2016-08-02  \n",
       "9024   2016-03-23  "
      ]
     },
     "execution_count": 8,
     "metadata": {},
     "output_type": "execute_result"
    }
   ],
   "source": [
    "GetSimilarMovies(Data, \"The Dark Knight\")"
   ]
  }
 ],
 "metadata": {
  "kernelspec": {
   "display_name": "Python 3",
   "language": "python",
   "name": "python3"
  },
  "language_info": {
   "codemirror_mode": {
    "name": "ipython",
    "version": 3
   },
   "file_extension": ".py",
   "mimetype": "text/x-python",
   "name": "python",
   "nbconvert_exporter": "python",
   "pygments_lexer": "ipython3",
   "version": "3.7.4"
  }
 },
 "nbformat": 4,
 "nbformat_minor": 4
}
